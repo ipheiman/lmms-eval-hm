{
 "cells": [
  {
   "cell_type": "markdown",
   "id": "d4f04f0b",
   "metadata": {},
   "source": [
    "# Model Responses"
   ]
  },
  {
   "cell_type": "code",
   "execution_count": null,
   "id": "3fbb009d",
   "metadata": {},
   "outputs": [],
   "source": [
    "{\"doc_id\": 0, \"target\": \"[2339, 185, 2454, 305]; [3113, 772, 3378, 1040]\", \"filtered_resps\": [\"[750, 384, 1269, 860]\"], \"doc_hash\": \"74234e98afe7498fb5daf1f36ac2d78acc339464f950703b8c019892f982b90b\", \"exact_match\": 0.0, \"input\": \"Where is the roundabout in this image? Provide the bounding box coordinates in the form of [x1, y1, x2, y2].\"}\n",
    "{\"doc_id\": 1, \"target\": \"[1505, 1591, 1514, 1609]; [777, 1346, 788, 1364]; [1916, 853, 1938, 876]; [1951, 760, 1965, 784]; [2178, 1122, 2207, 1140]; [1405, 1678, 1415, 1694]; [760, 1441, 781, 1451]\", \"filtered_resps\": [\"There are none.\"], \"doc_hash\": \"74234e98afe7498fb5daf1f36ac2d78acc339464f950703b8c019892f982b90b\", \"exact_match\": 0.0, \"input\": \"Where is the ship in this image? Provide the bounding box coordinates in the form of [x1, y1, x2, y2].\"}\n",
    "{\"doc_id\": 2, \"target\": \"[291, 1271, 430, 1404]; [576, 1627, 767, 1810]; [570, 1239, 766, 1411]\", \"filtered_resps\": [\"[430, 850, 736, 1159]\"], \"doc_hash\": \"74234e98afe7498fb5daf1f36ac2d78acc339464f950703b8c019892f982b90b\", \"exact_match\": 0.0, \"input\": \"Where is the baseball diamond in this image? Provide the bounding box coordinates in the form of [x1, y1, x2, y2].\"}\n",
    "{\"doc_id\": 3, \"target\": \"[262, 277, 512, 643]\", \"filtered_resps\": [\"[174, 108, 439, 560]\"], \"doc_hash\": \"74234e98afe7498fb5daf1f36ac2d78acc339464f950703b8c019892f982b90b\", \"exact_match\": 0.0, \"input\": \"Where is the soccer ball field in this image? Provide the bounding box coordinates in the form of [x1, y1, x2, y2].\"}\n",
    "{\"doc_id\": 4, \"target\": \"32\", \"filtered_resps\": [\"10\"], \"doc_hash\": \"74234e98afe7498fb5daf1f36ac2d78acc339464f950703b8c019892f982b90b\", \"exact_match\": 0.0, \"input\": \"How many planes are there in the image? Answer the question with a single word.\"}\n",
    "{\"doc_id\": 5, \"target\": \"2\", \"filtered_resps\": [\"1\"], \"doc_hash\": \"74234e98afe7498fb5daf1f36ac2d78acc339464f950703b8c019892f982b90b\", \"exact_match\": 0.0, \"input\": \"How many roundabouts are there in the image? Answer the question with a single word.\"}\n",
    "{\"doc_id\": 6, \"target\": \"15\", \"filtered_resps\": [\"10\"], \"doc_hash\": \"74234e98afe7498fb5daf1f36ac2d78acc339464f950703b8c019892f982b90b\", \"exact_match\": 0.0, \"input\": \"How many small vehicles are there in the image? Answer the question with a single word.\"}\n",
    "{\"doc_id\": 7, \"target\": \"1\", \"filtered_resps\": [\"0\"], \"doc_hash\": \"74234e98afe7498fb5daf1f36ac2d78acc339464f950703b8c019892f982b90b\", \"exact_match\": 0.0, \"input\": \"How many large vehicles are there in the image? Answer the question with a single word.\"}\n",
    "{\"doc_id\": 8, \"target\": \"This image shows a satellite view of an airport with multiple terminals and parked airplanes.\", \"filtered_resps\": [\"This image is an aerial view of an airport terminal and surrounding area. The terminal is designed with multiple concourses and gates, each equipped with jet bridges for boarding and disembarking passengers. Several airplanes are parked at the gates, indicating active operations.\\n\\nThe terminal building is centrally located, with various runways and taxiways extending outward. The airport is surrounded by greenery, including trees and grassy areas, which provide a contrast to the man-made structures. There are also several buildings and facilities visible, likely related to airport operations such as maintenance, security, and support services.\\n\\nThe image shows a well-organized layout typical of major international airports, with clear demarcations for different functions and areas. The presence of multiple aircraft and the extensive infrastructure suggests that this is a significant airport handling a high volume of passenger traffic.\"], \"doc_hash\": \"74234e98afe7498fb5daf1f36ac2d78acc339464f950703b8c019892f982b90b\", \"exact_match\": 0.0, \"input\": \"Describe this image.\"}\n",
    "{\"doc_id\": 9, \"target\": \"This image shows a satellite view of a lakeside residential area with docks extending into the water.\", \"filtered_resps\": [\"The image is an aerial view of a lake surrounded by residential properties. The lake has a dark, reflective surface, and the surrounding area is densely forested with green trees. There are several docks and piers extending into the water from the shore, indicating that the lake is likely used for recreational purposes such as boating or fishing. The houses and properties are well-maintained, with manicured lawns and gardens. The overall scene suggests a peaceful, suburban neighborhood located near a natural water body.\"], \"doc_hash\": \"74234e98afe7498fb5daf1f36ac2d78acc339464f950703b8c019892f982b90b\", \"exact_match\": 0.0, \"input\": \"Describe this image.\"}\n",
    "{\"doc_id\": 10, \"target\": \"This image shows a satellite view of a park with baseball and soccer fields, parking areas, and surrounding greenery.\", \"filtered_resps\": [\"The image is an aerial view of a park or recreational area featuring several sports fields and facilities. Here are the key elements visible in the image:\\n\\n1. **Sports Fields**:\\n   - There are multiple grassy fields, likely used for various sports such as soccer, football, and possibly baseball.\\n   - The fields are surrounded by pathways and are bordered by trees and greenery.\\n\\n2. **Parking Area**:\\n   - A large parking lot is situated adjacent to the sports fields. It appears to be quite spacious, with rows of parking spaces.\\n\\n3. **Lakes and Water Bodies**:\\n   - There is a large body of water, possibly a lake or pond, located near the top right corner of the image. This water body is surrounded by trees and greenery.\\n\\n4. **Pathways and Trails**:\\n   - Various paths and trails are visible throughout the area, connecting different parts of the park and providing access to the sports fields and the lake.\\n\\n5. **Trees and Vegetation**:\\n   - The park is lush with trees and vegetation, indicating a well-maintained natural environment.\\n\\n6. **Buildings and Structures**:\\n   - There are some buildings or structures visible near the parking lot, which might\"], \"doc_hash\": \"74234e98afe7498fb5daf1f36ac2d78acc339464f950703b8c019892f982b90b\", \"exact_match\": 0.0, \"input\": \"Describe this image.\"}\n",
    "{\"doc_id\": 11, \"target\": \"baseball diamond\", \"filtered_resps\": [\"trees\"], \"doc_hash\": \"74234e98afe7498fb5daf1f36ac2d78acc339464f950703b8c019892f982b90b\", \"exact_match\": 0.0, \"input\": \"What is the object in the bounding box [291, 1271, 430, 1404]? Answer the question with a single word (or phrase).\"}\n",
    "{\"doc_id\": 12, \"target\": \"soccer ball field\", \"filtered_resps\": [\"parking lot\"], \"doc_hash\": \"74234e98afe7498fb5daf1f36ac2d78acc339464f950703b8c019892f982b90b\", \"exact_match\": 0.0, \"input\": \"Given the bounding box [262, 277, 512, 643], what object is shown? Answer the question with a single word (or phrase).\"}\n"
   ]
  },
  {
   "cell_type": "markdown",
   "id": "62d6eddf",
   "metadata": {},
   "source": [
    "# Grounding Eval Code\n",
    "- return [0,0,0,0] if no objects detected\n",
    "- supports prediction of multiple bounding boxes"
   ]
  },
  {
   "cell_type": "code",
   "execution_count": 9,
   "id": "d738e1b4",
   "metadata": {},
   "outputs": [],
   "source": [
    "a = \"There are none.\"\n",
    "b = \"[174, 108, 439, 560]; [262, 277, 512, 643]; [291, 1271, 430, 1404]\"\n",
    "c= \"[174, 108, 439, 560]\"\n",
    "d = \"\""
   ]
  },
  {
   "cell_type": "code",
   "execution_count": 2,
   "id": "16fb5b24",
   "metadata": {},
   "outputs": [],
   "source": [
    "import re\n",
    "\n",
    "def parse_float_sequence_within(input_str):\n",
    "    \"\"\"\n",
    "    Extract all sequences of four floating-point numbers within square brackets from a string.\n",
    "\n",
    "    Args:\n",
    "    input_str (str): A string that may contain multiple sequences of four floats within square brackets.\n",
    "\n",
    "    Returns:\n",
    "    list: A list of bounding boxes, where each bounding box is a list of four floats.\n",
    "          Returns an empty list if no valid bounding boxes are found.\n",
    "    \"\"\"\n",
    "    # Define the regex pattern to find all instances of four floats within square brackets\n",
    "    pattern = r\"\\[\\s*(-?\\d+(?:\\.\\d+)?),\\s*(-?\\d+(?:\\.\\d+)?),\\s*(-?\\d+(?:\\.\\d+)?),\\s*(-?\\d+(?:\\.\\d+)?)\\s*\\]\"\n",
    "\n",
    "    # Use re.findall to find all matches of the pattern in the input string\n",
    "    matches = re.findall(pattern, input_str)\n",
    "\n",
    "    # If matches are found, convert each group of matches into a list of floats\n",
    "    if matches:\n",
    "        return [[float(x1), float(y1), float(x2), float(y2)] for x1, y1, x2, y2 in matches]\n",
    "\n",
    "    # If the input does not contain any valid bounding boxes, return an empty list\n",
    "    return [0, 0, 0, 0]\n"
   ]
  },
  {
   "cell_type": "code",
   "execution_count": 3,
   "id": "a3334c0c",
   "metadata": {},
   "outputs": [
    {
     "data": {
      "text/plain": [
       "[0, 0, 0, 0]"
      ]
     },
     "execution_count": 3,
     "metadata": {},
     "output_type": "execute_result"
    }
   ],
   "source": [
    "parse_float_sequence_within(a)"
   ]
  },
  {
   "cell_type": "code",
   "execution_count": 4,
   "id": "aa319e8e",
   "metadata": {},
   "outputs": [
    {
     "data": {
      "text/plain": [
       "[[174.0, 108.0, 439.0, 560.0],\n",
       " [262.0, 277.0, 512.0, 643.0],\n",
       " [291.0, 1271.0, 430.0, 1404.0]]"
      ]
     },
     "execution_count": 4,
     "metadata": {},
     "output_type": "execute_result"
    }
   ],
   "source": [
    "parse_float_sequence_within(b)"
   ]
  },
  {
   "cell_type": "code",
   "execution_count": 8,
   "id": "ddf21aec",
   "metadata": {},
   "outputs": [
    {
     "data": {
      "text/plain": [
       "[0, 0, 0, 0]"
      ]
     },
     "execution_count": 8,
     "metadata": {},
     "output_type": "execute_result"
    }
   ],
   "source": [
    "parse_float_sequence_within(\"0\")"
   ]
  },
  {
   "cell_type": "code",
   "execution_count": 4,
   "id": "d988fe43",
   "metadata": {},
   "outputs": [],
   "source": [
    "def compute_iou(box1, box2):\n",
    "    \"\"\"\n",
    "    Compute the Intersection over Union (IoU) of two bounding boxes.\n",
    "\n",
    "    Parameters:\n",
    "    - box1 (list of float): Bounding box [x_min, y_min, x_max, y_max].\n",
    "    - box2 (list of float): Bounding box [x_min, y_min, x_max, y_max].\n",
    "\n",
    "    Returns:\n",
    "    - float: IoU of box1 and box2.\n",
    "    \"\"\"\n",
    "    # Determine the coordinates of the intersection rectangle\n",
    "    x_left = max(box1[0], box2[0])\n",
    "    y_top = max(box1[1], box2[1])\n",
    "    x_right = min(box1[2], box2[2])\n",
    "    y_bottom = min(box1[3], box2[3])\n",
    "\n",
    "    # Compute the area of intersection\n",
    "    intersection_area = max(0, x_right - x_left) * max(0, y_bottom - y_top)\n",
    "\n",
    "    # Compute the area of both bounding boxes\n",
    "    box1_area = (box1[2] - box1[0]) * (box1[3] - box1[1])\n",
    "    box2_area = (box2[2] - box2[0]) * (box2[3] - box2[1])\n",
    "\n",
    "    # Compute the area of the union\n",
    "    union_area = box1_area + box2_area - intersection_area\n",
    "\n",
    "    # Compute the Intersection over Union\n",
    "    iou = intersection_area / union_area\n",
    "\n",
    "    return iou\n",
    "\n",
    "def compute_accuracy(box1, box2, threshold=0.5):\n",
    "    return compute_iou(box1, box2) >= threshold\n",
    "\n",
    "def compute_center_accuracy(box1, box2):\n",
    "    cx = (box2[0] + box2[2]) / 2\n",
    "    cy = (box2[1] + box2[3]) / 2\n",
    "    return box1[0] <= cx <= box1[2] and box1[1] <= cy <= box1[3]\n",
    "\n",
    "def match_bboxes(gt_bboxes, pred_bboxes, scorer):\n",
    "    \"\"\"\n",
    "    Match GT bboxes to pred bboxes using greedy matching.\n",
    "    Returns list of best scores for each GT box.\n",
    "    \"\"\"\n",
    "    if not gt_bboxes:\n",
    "        return [0.0] * len(pred_bboxes)\n",
    "    if not pred_bboxes:\n",
    "        return [0.0] * len(gt_bboxes)\n",
    "\n",
    "    matched = set()\n",
    "    scores = []\n",
    "    for gt in gt_bboxes:\n",
    "        best_score = 0.0\n",
    "        best_pred = None\n",
    "        for i, pred in enumerate(pred_bboxes):\n",
    "            if i in matched:\n",
    "                continue\n",
    "            score = scorer(gt, pred)\n",
    "            if score > best_score:\n",
    "                best_score = score\n",
    "                best_pred = i\n",
    "        if best_pred is not None:\n",
    "            matched.add(best_pred)\n",
    "        scores.append(best_score)\n",
    "    return scores\n",
    "\n",
    "def dota_bbox_rec_aggregation_result(results, metric):\n",
    "    \"\"\"\n",
    "    Aggregate the results of the dota evaluation task using the specified metric.\n",
    "\n",
    "    Args:\n",
    "    - results (list of dict): List of result dictionaries.\n",
    "    - metric (str): Metric to use for aggregation.\n",
    "\n",
    "    Returns:\n",
    "    - dict: Dictionary containing the aggregated results for the specified metric.\n",
    "    \"\"\"\n",
    "\n",
    "    scorers = {\n",
    "        \"IoU\": compute_iou,\n",
    "        \"ACC@0.1\": lambda x, y: float(compute_accuracy(x, y, 0.1)),\n",
    "        \"ACC@0.3\": lambda x, y: float(compute_accuracy(x, y, 0.3)),\n",
    "        \"ACC@0.5\": lambda x, y: float(compute_accuracy(x, y, 0.5)),\n",
    "        \"ACC@0.7\": lambda x, y: float(compute_accuracy(x, y, 0.7)),\n",
    "        \"ACC@0.9\": lambda x, y: float(compute_accuracy(x, y, 0.9)),\n",
    "        \"Center_ACC\": lambda x, y: float(compute_center_accuracy(x, y)),\n",
    "    }\n",
    "\n",
    "    scorer = scorers[metric]\n",
    "    scores_all = []\n",
    "    for result in results:\n",
    "        gt_bboxes = result[\"bbox\"]\n",
    "        pred_bboxes = result[\"pred\"]\n",
    "        scores = match_bboxes(gt_bboxes, pred_bboxes, scorer)\n",
    "        avg_score = sum(scores) / len(scores) if scores else 0.0\n",
    "        scores_all.append(avg_score)\n",
    "    print(scores_all)\n",
    "    final_score = sum(scores_all) / len(scores_all)\n",
    "    print(f\"Aggregated {metric} score: {final_score}\")\n",
    "    return final_score\n"
   ]
  },
  {
   "cell_type": "code",
   "execution_count": 5,
   "id": "44e6e8b9",
   "metadata": {},
   "outputs": [],
   "source": [
    "results = [\n",
    "    {\n",
    "        \"bbox\": [  # ground truth boxes\n",
    "            [10, 10, 50, 50],\n",
    "            [100, 100, 150, 150],\n",
    "        ],\n",
    "        \"pred\": [  # predicted boxes\n",
    "            [12, 12, 48, 48],      # good match with GT 1\n",
    "            [102, 102, 148, 148],  # good match with GT 2\n",
    "            [200, 200, 220, 220],  # unmatched, false positive\n",
    "        ]\n",
    "    },\n",
    "    {\n",
    "        \"bbox\": [\n",
    "            [30, 30, 60, 60],\n",
    "        ],\n",
    "        \"pred\": [\n",
    "            [35, 35, 55, 55],\n",
    "        ]\n",
    "    },\n",
    "    {\n",
    "        \"bbox\": [],  # no objects in GT\n",
    "        \"pred\": [\n",
    "            [10, 10, 30, 30]\n",
    "        ]\n",
    "    },\n",
    "    {\n",
    "        \"bbox\": [\n",
    "            [10, 10, 30, 30],\n",
    "            [40, 40, 60, 60],\n",
    "        ],\n",
    "        \"pred\": []  # missed both\n",
    "    }\n",
    "]\n"
   ]
  },
  {
   "cell_type": "code",
   "execution_count": 9,
   "id": "a895bd2c",
   "metadata": {},
   "outputs": [
    {
     "name": "stdout",
     "output_type": "stream",
     "text": [
      "[0.0, 0.0, 0.0, 0.0]\n",
      "Aggregated ACC@0.9 score: 0.0\n"
     ]
    },
    {
     "data": {
      "text/plain": [
       "0.0"
      ]
     },
     "execution_count": 9,
     "metadata": {},
     "output_type": "execute_result"
    }
   ],
   "source": [
    "# results = [\n",
    "#     {\"bbox\": [[10, 10, 50, 50]], \"pred\": [[12, 12, 48, 48]]},\n",
    "#     {\"bbox\": [[100, 100, 150, 150]], \"pred\": [[95, 95, 145, 145]]},\n",
    "# ]\n",
    "\n",
    "# Run the aggregation\n",
    "dota_bbox_rec_aggregation_result(results, \"ACC@0.9\")"
   ]
  },
  {
   "cell_type": "markdown",
   "id": "41e59db7",
   "metadata": {},
   "source": [
    "# Ignore Puncutations for ChartQA"
   ]
  },
  {
   "cell_type": "code",
   "execution_count": 10,
   "id": "f0df32b0",
   "metadata": {},
   "outputs": [],
   "source": [
    "import string\n",
    "\n",
    "def remove_punctuation(s):\n",
    "    return s.translate(str.maketrans(\"\", \"\", string.punctuation))"
   ]
  },
  {
   "cell_type": "code",
   "execution_count": 11,
   "id": "0eb9aec0",
   "metadata": {},
   "outputs": [
    {
     "data": {
      "text/plain": [
       "'hi'"
      ]
     },
     "execution_count": 11,
     "metadata": {},
     "output_type": "execute_result"
    }
   ],
   "source": [
    "remove_punctuation(\"hi!\")"
   ]
  },
  {
   "cell_type": "code",
   "execution_count": null,
   "id": "0b763517",
   "metadata": {},
   "outputs": [],
   "source": []
  },
  {
   "cell_type": "code",
   "execution_count": null,
   "id": "67166297",
   "metadata": {},
   "outputs": [],
   "source": []
  },
  {
   "cell_type": "markdown",
   "id": "f6f9828e",
   "metadata": {},
   "source": [
    "# Visualize for Best Data-Mix"
   ]
  },
  {
   "cell_type": "code",
   "execution_count": null,
   "id": "058eb0e6",
   "metadata": {},
   "outputs": [],
   "source": [
    "import matplotlib.pyplot as plt\n",
    "import numpy as np\n",
    "\n",
    "# Example data\n",
    "model_names = ['Model A', 'Model B', 'Model C', 'Model D', 'Model E', 'Model F', 'Model G']\n",
    "performance_sets = [\n",
    "    [0.85, 0.78, 0.92, 0.88, 0.81, 0.75, 0.89],  # Set 1\n",
    "    [0.83, 0.76, 0.90, 0.86, 0.79, 0.72, 0.87],  # Set 2\n",
    "    [0.80, 0.74, 0.91, 0.85, 0.77, 0.71, 0.86],  # Set 3\n",
    "    [0.82, 0.75, 0.89, 0.84, 0.78, 0.73, 0.88],  # Set 4\n",
    "    [0.84, 0.77, 0.93, 0.87, 0.80, 0.74, 0.90],  # Set 5\n",
    "]\n",
    "labels = ['Condition 1', 'Condition 2', 'Condition 3', 'Condition 4', 'Condition 5']\n",
    "colors = ['steelblue', 'darkorange', 'forestgreen', 'mediumpurple', 'crimson']\n",
    "\n",
    "# Bar setup\n",
    "x = np.arange(len(model_names))\n",
    "total_sets = len(performance_sets)\n",
    "width = 0.15  # Smaller width since we have more sets\n",
    "\n",
    "# Plot\n",
    "plt.figure(figsize=(12, 6))\n",
    "\n",
    "for i, (scores, label, color) in enumerate(zip(performance_sets, labels, colors)):\n",
    "    offset = (i - total_sets / 2) * width + width / 2\n",
    "    bars = plt.bar(x + offset, scores, width, label=label, color=color)\n",
    "    \n",
    "    # Add labels (optional, remove if cluttered)\n",
    "    for bar in bars:\n",
    "        y = bar.get_height()\n",
    "        plt.text(bar.get_x() + bar.get_width() / 2, y + 0.005, f'{y:.2f}', ha='center', va='bottom', fontsize=7)\n",
    "\n",
    "# Final formatting\n",
    "plt.title('Model Performance Across 5 Conditions')\n",
    "plt.xlabel('Model')\n",
    "plt.ylabel('Performance Metric')\n",
    "plt.xticks(x, model_names)\n",
    "plt.ylim(0, max(max(s) for s in performance_sets) + 0.1)\n",
    "plt.grid(axis='y', linestyle='--', alpha=0.7)\n",
    "plt.legend()\n",
    "plt.tight_layout()\n",
    "plt.show()\n"
   ]
  },
  {
   "cell_type": "code",
   "execution_count": null,
   "id": "0c162327",
   "metadata": {},
   "outputs": [],
   "source": [
    "import matplotlib.pyplot as plt\n",
    "import numpy as np\n",
    "\n",
    "# Models and scores\n",
    "model_names = ['Model A', 'Model B', 'Model C', 'Model D', 'Model E', 'Model F', 'Model G']\n",
    "performance_sets = [\n",
    "    [0.85, 0.78, 0.92, 0.88, 0.81, 0.75, 0.89],  # Metric 1\n",
    "    [0.83, 0.76, 0.90, 0.86, 0.79, 0.72, 0.87],  # Metric 2\n",
    "    [0.80, 0.74, 0.91, 0.85, 0.77, 0.71, 0.86],  # Metric 3\n",
    "    [0.82, 0.75, 0.89, 0.84, 0.78, 0.73, 0.88],  # Metric 4\n",
    "]\n",
    "large_scale_set = [2000, 2500, 1800, 2200, 2100, 2600, 2300]  # e.g., model size in MB\n",
    "\n",
    "# Settings\n",
    "labels = ['Metric 1', 'Metric 2', 'Metric 3', 'Metric 4']\n",
    "colors = ['steelblue', 'darkorange', 'forestgreen', 'mediumpurple']\n",
    "x = np.arange(len(model_names))\n",
    "width = 0.15\n",
    "\n",
    "fig, ax1 = plt.subplots(figsize=(12, 6))\n",
    "\n",
    "# Plot 4 scaled performance sets on primary y-axis\n",
    "for i, (scores, label, color) in enumerate(zip(performance_sets, labels, colors)):\n",
    "    offset = (i - 2) * width  # center bars around each model\n",
    "    ax1.bar(x + offset, scores, width, label=label, color=color)\n",
    "\n",
    "ax1.set_ylabel(\"Performance Metric (0–1)\")\n",
    "ax1.set_ylim(0, 1.05)\n",
    "ax1.set_xticks(x)\n",
    "ax1.set_xticklabels(model_names)\n",
    "ax1.grid(axis='y', linestyle='--', alpha=0.6)\n",
    "\n",
    "# Secondary y-axis for large-scale metric\n",
    "ax2 = ax1.twinx()\n",
    "ax2.plot(x, large_scale_set, 'o--', color='crimson', label='Model Size (MB)', linewidth=2, markersize=6)\n",
    "ax2.set_ylabel(\"Model Size (MB)\")\n",
    "ax2.set_ylim(0, max(large_scale_set) * 1.1)\n",
    "\n",
    "# Legends (combine from both axes)\n",
    "lines1, labels1 = ax1.get_legend_handles_labels()\n",
    "lines2, labels2 = ax2.get_legend_handles_labels()\n",
    "ax1.legend(lines1 + lines2, labels1 + labels2, loc='upper left')\n",
    "\n",
    "plt.title(\"Model Performance Metrics + Model Size\")\n",
    "plt.tight_layout()\n",
    "plt.show()\n"
   ]
  }
 ],
 "metadata": {
  "kernelspec": {
   "display_name": "lmmseval",
   "language": "python",
   "name": "python3"
  },
  "language_info": {
   "codemirror_mode": {
    "name": "ipython",
    "version": 3
   },
   "file_extension": ".py",
   "mimetype": "text/x-python",
   "name": "python",
   "nbconvert_exporter": "python",
   "pygments_lexer": "ipython3",
   "version": "3.10.18"
  }
 },
 "nbformat": 4,
 "nbformat_minor": 5
}
